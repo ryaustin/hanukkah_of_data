{
  "nbformat": 4,
  "nbformat_minor": 0,
  "metadata": {
    "colab": {
      "provenance": [],
      "toc_visible": true,
      "authorship_tag": "ABX9TyPe9uOreOvVJkfPUxToYQN8",
      "include_colab_link": true
    },
    "kernelspec": {
      "name": "python3",
      "display_name": "Python 3"
    },
    "language_info": {
      "name": "python"
    }
  },
  "cells": [
    {
      "cell_type": "markdown",
      "metadata": {
        "id": "view-in-github",
        "colab_type": "text"
      },
      "source": [
        "<a href=\"https://colab.research.google.com/github/ryaustin/hanukkah_of_data/blob/noahs-rug/Hanukkah_of_Data_2023.ipynb\" target=\"_parent\"><img src=\"https://colab.research.google.com/assets/colab-badge.svg\" alt=\"Open In Colab\"/></a>"
      ]
    },
    {
      "cell_type": "markdown",
      "source": [
        "# 🕎 [Hanukkah of Data](https://hanukkah.bluebird.sh/) Challenge 2023.\n",
        "\n",
        "For some time, i've wanted a reason to play with pandas again. Let's use the python pandas library to work on this challenge.\n"
      ],
      "metadata": {
        "id": "xoyX8y983vcp"
      }
    },
    {
      "cell_type": "markdown",
      "source": [
        "# Setup\n",
        "Install & Import Pandas.\n",
        "Load the customers into a dataframe called customers"
      ],
      "metadata": {
        "id": "cdPM4bII-V9Z"
      }
    },
    {
      "cell_type": "code",
      "source": [
        "pip install pandas"
      ],
      "metadata": {
        "colab": {
          "base_uri": "https://localhost:8080/"
        },
        "id": "Q-xY89hIMDq5",
        "outputId": "712603a5-4960-45c0-a1dc-2ed45310b995"
      },
      "execution_count": 46,
      "outputs": [
        {
          "output_type": "stream",
          "name": "stdout",
          "text": [
            "Requirement already satisfied: pandas in /usr/local/lib/python3.10/dist-packages (1.5.3)\n",
            "Requirement already satisfied: python-dateutil>=2.8.1 in /usr/local/lib/python3.10/dist-packages (from pandas) (2.8.2)\n",
            "Requirement already satisfied: pytz>=2020.1 in /usr/local/lib/python3.10/dist-packages (from pandas) (2023.3.post1)\n",
            "Requirement already satisfied: numpy>=1.21.0 in /usr/local/lib/python3.10/dist-packages (from pandas) (1.23.5)\n",
            "Requirement already satisfied: six>=1.5 in /usr/local/lib/python3.10/dist-packages (from python-dateutil>=2.8.1->pandas) (1.16.0)\n"
          ]
        }
      ]
    },
    {
      "cell_type": "code",
      "source": [
        "import pandas as pd"
      ],
      "metadata": {
        "id": "B0-tfpnxNFQS"
      },
      "execution_count": 47,
      "outputs": []
    },
    {
      "cell_type": "markdown",
      "source": [
        "Originally, I intended to load the sqlite version of the data [here]((https://hanukkah.bluebird.sh/data). I kept getting errors loading the tabels using `df.read_sql...` so using json version of the data (which can be found on same page link above)."
      ],
      "metadata": {
        "id": "hgTQHWdT5nex"
      }
    },
    {
      "cell_type": "code",
      "source": [
        "customers = pd.read_json('noahs-customers.jsonl', lines=True)\n",
        "# file contains multiple json objects 'jsonl' format so lines=True\n",
        "customers.head() # a quick peak at the data to know what we're working with."
      ],
      "metadata": {
        "colab": {
          "base_uri": "https://localhost:8080/",
          "height": 293
        },
        "id": "i70y1YN1Nb_x",
        "outputId": "ef65fb14-6c31-47e2-b1e7-69ac571bbafd"
      },
      "execution_count": 48,
      "outputs": [
        {
          "output_type": "execute_result",
          "data": {
            "text/plain": [
              "   customerid                   name              address  \\\n",
              "0        1001     Jacqueline Alvarez    105N Elizabeth St   \n",
              "1        1002           Julie Howell      185-1 Linden St   \n",
              "2        1003        Christopher Ali  174-28 Baisley Blvd   \n",
              "3        1004  Christopher Rodriguez    102 Mount Hope Pl   \n",
              "4        1005      Jeffrey Wilkinson       17 St Marks Pl   \n",
              "\n",
              "          citystatezip   birthdate         phone          timezone        lat  \\\n",
              "0  Manhattan, NY 10013  1958-01-23  315-377-5031  America/New_York  40.718170   \n",
              "1   Brooklyn, NY 11221  1956-12-03  680-537-8725  America/New_York  40.694261   \n",
              "2    Jamaica, NY 11434  2001-09-20  315-846-6054  America/New_York  40.689022   \n",
              "3      Bronx, NY 10453  1959-07-10  516-275-2292  America/New_York  40.849389   \n",
              "4  Manhattan, NY 10003  1988-09-08  838-830-6960  America/New_York  40.728045   \n",
              "\n",
              "        long  \n",
              "0 -73.997468  \n",
              "1 -73.921665  \n",
              "2 -73.773475  \n",
              "3 -73.909157  \n",
              "4 -73.987117  "
            ],
            "text/html": [
              "\n",
              "  <div id=\"df-a642e9ff-cc0c-419c-9b51-ae051a8e9972\" class=\"colab-df-container\">\n",
              "    <div>\n",
              "<style scoped>\n",
              "    .dataframe tbody tr th:only-of-type {\n",
              "        vertical-align: middle;\n",
              "    }\n",
              "\n",
              "    .dataframe tbody tr th {\n",
              "        vertical-align: top;\n",
              "    }\n",
              "\n",
              "    .dataframe thead th {\n",
              "        text-align: right;\n",
              "    }\n",
              "</style>\n",
              "<table border=\"1\" class=\"dataframe\">\n",
              "  <thead>\n",
              "    <tr style=\"text-align: right;\">\n",
              "      <th></th>\n",
              "      <th>customerid</th>\n",
              "      <th>name</th>\n",
              "      <th>address</th>\n",
              "      <th>citystatezip</th>\n",
              "      <th>birthdate</th>\n",
              "      <th>phone</th>\n",
              "      <th>timezone</th>\n",
              "      <th>lat</th>\n",
              "      <th>long</th>\n",
              "    </tr>\n",
              "  </thead>\n",
              "  <tbody>\n",
              "    <tr>\n",
              "      <th>0</th>\n",
              "      <td>1001</td>\n",
              "      <td>Jacqueline Alvarez</td>\n",
              "      <td>105N Elizabeth St</td>\n",
              "      <td>Manhattan, NY 10013</td>\n",
              "      <td>1958-01-23</td>\n",
              "      <td>315-377-5031</td>\n",
              "      <td>America/New_York</td>\n",
              "      <td>40.718170</td>\n",
              "      <td>-73.997468</td>\n",
              "    </tr>\n",
              "    <tr>\n",
              "      <th>1</th>\n",
              "      <td>1002</td>\n",
              "      <td>Julie Howell</td>\n",
              "      <td>185-1 Linden St</td>\n",
              "      <td>Brooklyn, NY 11221</td>\n",
              "      <td>1956-12-03</td>\n",
              "      <td>680-537-8725</td>\n",
              "      <td>America/New_York</td>\n",
              "      <td>40.694261</td>\n",
              "      <td>-73.921665</td>\n",
              "    </tr>\n",
              "    <tr>\n",
              "      <th>2</th>\n",
              "      <td>1003</td>\n",
              "      <td>Christopher Ali</td>\n",
              "      <td>174-28 Baisley Blvd</td>\n",
              "      <td>Jamaica, NY 11434</td>\n",
              "      <td>2001-09-20</td>\n",
              "      <td>315-846-6054</td>\n",
              "      <td>America/New_York</td>\n",
              "      <td>40.689022</td>\n",
              "      <td>-73.773475</td>\n",
              "    </tr>\n",
              "    <tr>\n",
              "      <th>3</th>\n",
              "      <td>1004</td>\n",
              "      <td>Christopher Rodriguez</td>\n",
              "      <td>102 Mount Hope Pl</td>\n",
              "      <td>Bronx, NY 10453</td>\n",
              "      <td>1959-07-10</td>\n",
              "      <td>516-275-2292</td>\n",
              "      <td>America/New_York</td>\n",
              "      <td>40.849389</td>\n",
              "      <td>-73.909157</td>\n",
              "    </tr>\n",
              "    <tr>\n",
              "      <th>4</th>\n",
              "      <td>1005</td>\n",
              "      <td>Jeffrey Wilkinson</td>\n",
              "      <td>17 St Marks Pl</td>\n",
              "      <td>Manhattan, NY 10003</td>\n",
              "      <td>1988-09-08</td>\n",
              "      <td>838-830-6960</td>\n",
              "      <td>America/New_York</td>\n",
              "      <td>40.728045</td>\n",
              "      <td>-73.987117</td>\n",
              "    </tr>\n",
              "  </tbody>\n",
              "</table>\n",
              "</div>\n",
              "    <div class=\"colab-df-buttons\">\n",
              "\n",
              "  <div class=\"colab-df-container\">\n",
              "    <button class=\"colab-df-convert\" onclick=\"convertToInteractive('df-a642e9ff-cc0c-419c-9b51-ae051a8e9972')\"\n",
              "            title=\"Convert this dataframe to an interactive table.\"\n",
              "            style=\"display:none;\">\n",
              "\n",
              "  <svg xmlns=\"http://www.w3.org/2000/svg\" height=\"24px\" viewBox=\"0 -960 960 960\">\n",
              "    <path d=\"M120-120v-720h720v720H120Zm60-500h600v-160H180v160Zm220 220h160v-160H400v160Zm0 220h160v-160H400v160ZM180-400h160v-160H180v160Zm440 0h160v-160H620v160ZM180-180h160v-160H180v160Zm440 0h160v-160H620v160Z\"/>\n",
              "  </svg>\n",
              "    </button>\n",
              "\n",
              "  <style>\n",
              "    .colab-df-container {\n",
              "      display:flex;\n",
              "      gap: 12px;\n",
              "    }\n",
              "\n",
              "    .colab-df-convert {\n",
              "      background-color: #E8F0FE;\n",
              "      border: none;\n",
              "      border-radius: 50%;\n",
              "      cursor: pointer;\n",
              "      display: none;\n",
              "      fill: #1967D2;\n",
              "      height: 32px;\n",
              "      padding: 0 0 0 0;\n",
              "      width: 32px;\n",
              "    }\n",
              "\n",
              "    .colab-df-convert:hover {\n",
              "      background-color: #E2EBFA;\n",
              "      box-shadow: 0px 1px 2px rgba(60, 64, 67, 0.3), 0px 1px 3px 1px rgba(60, 64, 67, 0.15);\n",
              "      fill: #174EA6;\n",
              "    }\n",
              "\n",
              "    .colab-df-buttons div {\n",
              "      margin-bottom: 4px;\n",
              "    }\n",
              "\n",
              "    [theme=dark] .colab-df-convert {\n",
              "      background-color: #3B4455;\n",
              "      fill: #D2E3FC;\n",
              "    }\n",
              "\n",
              "    [theme=dark] .colab-df-convert:hover {\n",
              "      background-color: #434B5C;\n",
              "      box-shadow: 0px 1px 3px 1px rgba(0, 0, 0, 0.15);\n",
              "      filter: drop-shadow(0px 1px 2px rgba(0, 0, 0, 0.3));\n",
              "      fill: #FFFFFF;\n",
              "    }\n",
              "  </style>\n",
              "\n",
              "    <script>\n",
              "      const buttonEl =\n",
              "        document.querySelector('#df-a642e9ff-cc0c-419c-9b51-ae051a8e9972 button.colab-df-convert');\n",
              "      buttonEl.style.display =\n",
              "        google.colab.kernel.accessAllowed ? 'block' : 'none';\n",
              "\n",
              "      async function convertToInteractive(key) {\n",
              "        const element = document.querySelector('#df-a642e9ff-cc0c-419c-9b51-ae051a8e9972');\n",
              "        const dataTable =\n",
              "          await google.colab.kernel.invokeFunction('convertToInteractive',\n",
              "                                                    [key], {});\n",
              "        if (!dataTable) return;\n",
              "\n",
              "        const docLinkHtml = 'Like what you see? Visit the ' +\n",
              "          '<a target=\"_blank\" href=https://colab.research.google.com/notebooks/data_table.ipynb>data table notebook</a>'\n",
              "          + ' to learn more about interactive tables.';\n",
              "        element.innerHTML = '';\n",
              "        dataTable['output_type'] = 'display_data';\n",
              "        await google.colab.output.renderOutput(dataTable, element);\n",
              "        const docLink = document.createElement('div');\n",
              "        docLink.innerHTML = docLinkHtml;\n",
              "        element.appendChild(docLink);\n",
              "      }\n",
              "    </script>\n",
              "  </div>\n",
              "\n",
              "\n",
              "<div id=\"df-b45beb2e-8b4d-4e5a-baee-f9f59c23e417\">\n",
              "  <button class=\"colab-df-quickchart\" onclick=\"quickchart('df-b45beb2e-8b4d-4e5a-baee-f9f59c23e417')\"\n",
              "            title=\"Suggest charts\"\n",
              "            style=\"display:none;\">\n",
              "\n",
              "<svg xmlns=\"http://www.w3.org/2000/svg\" height=\"24px\"viewBox=\"0 0 24 24\"\n",
              "     width=\"24px\">\n",
              "    <g>\n",
              "        <path d=\"M19 3H5c-1.1 0-2 .9-2 2v14c0 1.1.9 2 2 2h14c1.1 0 2-.9 2-2V5c0-1.1-.9-2-2-2zM9 17H7v-7h2v7zm4 0h-2V7h2v10zm4 0h-2v-4h2v4z\"/>\n",
              "    </g>\n",
              "</svg>\n",
              "  </button>\n",
              "\n",
              "<style>\n",
              "  .colab-df-quickchart {\n",
              "      --bg-color: #E8F0FE;\n",
              "      --fill-color: #1967D2;\n",
              "      --hover-bg-color: #E2EBFA;\n",
              "      --hover-fill-color: #174EA6;\n",
              "      --disabled-fill-color: #AAA;\n",
              "      --disabled-bg-color: #DDD;\n",
              "  }\n",
              "\n",
              "  [theme=dark] .colab-df-quickchart {\n",
              "      --bg-color: #3B4455;\n",
              "      --fill-color: #D2E3FC;\n",
              "      --hover-bg-color: #434B5C;\n",
              "      --hover-fill-color: #FFFFFF;\n",
              "      --disabled-bg-color: #3B4455;\n",
              "      --disabled-fill-color: #666;\n",
              "  }\n",
              "\n",
              "  .colab-df-quickchart {\n",
              "    background-color: var(--bg-color);\n",
              "    border: none;\n",
              "    border-radius: 50%;\n",
              "    cursor: pointer;\n",
              "    display: none;\n",
              "    fill: var(--fill-color);\n",
              "    height: 32px;\n",
              "    padding: 0;\n",
              "    width: 32px;\n",
              "  }\n",
              "\n",
              "  .colab-df-quickchart:hover {\n",
              "    background-color: var(--hover-bg-color);\n",
              "    box-shadow: 0 1px 2px rgba(60, 64, 67, 0.3), 0 1px 3px 1px rgba(60, 64, 67, 0.15);\n",
              "    fill: var(--button-hover-fill-color);\n",
              "  }\n",
              "\n",
              "  .colab-df-quickchart-complete:disabled,\n",
              "  .colab-df-quickchart-complete:disabled:hover {\n",
              "    background-color: var(--disabled-bg-color);\n",
              "    fill: var(--disabled-fill-color);\n",
              "    box-shadow: none;\n",
              "  }\n",
              "\n",
              "  .colab-df-spinner {\n",
              "    border: 2px solid var(--fill-color);\n",
              "    border-color: transparent;\n",
              "    border-bottom-color: var(--fill-color);\n",
              "    animation:\n",
              "      spin 1s steps(1) infinite;\n",
              "  }\n",
              "\n",
              "  @keyframes spin {\n",
              "    0% {\n",
              "      border-color: transparent;\n",
              "      border-bottom-color: var(--fill-color);\n",
              "      border-left-color: var(--fill-color);\n",
              "    }\n",
              "    20% {\n",
              "      border-color: transparent;\n",
              "      border-left-color: var(--fill-color);\n",
              "      border-top-color: var(--fill-color);\n",
              "    }\n",
              "    30% {\n",
              "      border-color: transparent;\n",
              "      border-left-color: var(--fill-color);\n",
              "      border-top-color: var(--fill-color);\n",
              "      border-right-color: var(--fill-color);\n",
              "    }\n",
              "    40% {\n",
              "      border-color: transparent;\n",
              "      border-right-color: var(--fill-color);\n",
              "      border-top-color: var(--fill-color);\n",
              "    }\n",
              "    60% {\n",
              "      border-color: transparent;\n",
              "      border-right-color: var(--fill-color);\n",
              "    }\n",
              "    80% {\n",
              "      border-color: transparent;\n",
              "      border-right-color: var(--fill-color);\n",
              "      border-bottom-color: var(--fill-color);\n",
              "    }\n",
              "    90% {\n",
              "      border-color: transparent;\n",
              "      border-bottom-color: var(--fill-color);\n",
              "    }\n",
              "  }\n",
              "</style>\n",
              "\n",
              "  <script>\n",
              "    async function quickchart(key) {\n",
              "      const quickchartButtonEl =\n",
              "        document.querySelector('#' + key + ' button');\n",
              "      quickchartButtonEl.disabled = true;  // To prevent multiple clicks.\n",
              "      quickchartButtonEl.classList.add('colab-df-spinner');\n",
              "      try {\n",
              "        const charts = await google.colab.kernel.invokeFunction(\n",
              "            'suggestCharts', [key], {});\n",
              "      } catch (error) {\n",
              "        console.error('Error during call to suggestCharts:', error);\n",
              "      }\n",
              "      quickchartButtonEl.classList.remove('colab-df-spinner');\n",
              "      quickchartButtonEl.classList.add('colab-df-quickchart-complete');\n",
              "    }\n",
              "    (() => {\n",
              "      let quickchartButtonEl =\n",
              "        document.querySelector('#df-b45beb2e-8b4d-4e5a-baee-f9f59c23e417 button');\n",
              "      quickchartButtonEl.style.display =\n",
              "        google.colab.kernel.accessAllowed ? 'block' : 'none';\n",
              "    })();\n",
              "  </script>\n",
              "</div>\n",
              "\n",
              "    </div>\n",
              "  </div>\n"
            ]
          },
          "metadata": {},
          "execution_count": 48
        }
      ]
    },
    {
      "cell_type": "markdown",
      "source": [
        "# The Investigator - Solution 1"
      ],
      "metadata": {
        "id": "uRoWcTDQ91Zv"
      }
    },
    {
      "cell_type": "markdown",
      "source": [
        "My solution is to map numbers 0-9 to Alphabet letters in a dict (I love dicts) and check for membership."
      ],
      "metadata": {
        "id": "ckZB79YE7eT-"
      }
    },
    {
      "cell_type": "code",
      "source": [
        "def match_string_with_phone_number(last_name, phone_number):\n",
        "    # Mapping of letters to numbers on a phone keypad\n",
        "    keypad = {\n",
        "        '1': '1', '2': 'ABC', '3': 'DEF',\n",
        "        '4': 'GHI', '5': 'JKL', '6': 'MNO',\n",
        "        '7': 'PQRS', '8': 'TUV', '9': 'WXYZ',\n",
        "        '0': '0'\n",
        "    }\n",
        "\n",
        "    # check each character\n",
        "    for char, digit in zip(last_name.upper(), str(phone_number)):\n",
        "      if char not in keypad[digit]:\n",
        "            return False\n",
        "\n",
        "    return True"
      ],
      "metadata": {
        "id": "QI0vb9SiwzUe"
      },
      "execution_count": 49,
      "outputs": []
    },
    {
      "cell_type": "markdown",
      "source": [
        "Finally, we loop through the db row by row to obtain potential results. Now after receiving the first potential result, we can break the loop and assume it is the only result so adding a `break` after the print statement once we find a correct_name could result in better performance for this challenge."
      ],
      "metadata": {
        "id": "LafQWt6P7_Xp"
      }
    },
    {
      "cell_type": "code",
      "source": [
        "%time\n",
        "for row in customers.itertuples():\n",
        "  last_name = row.name.split()[-1]\n",
        "  phone_number=row.phone.replace(\"-\",\"\")\n",
        "  correct_name = match_string_with_phone_number(last_name=last_name, phone_number=phone_number)\n",
        "  if correct_name:\n",
        "    print(f\"The investigators name could be {last_name} with a phone number of: {row.phone}\")\n",
        "    break\n",
        "%time"
      ],
      "metadata": {
        "colab": {
          "base_uri": "https://localhost:8080/"
        },
        "id": "gCvt8D04OKqp",
        "outputId": "5a9995e7-5f40-4da4-c019-0b0315cdc201"
      },
      "execution_count": 50,
      "outputs": [
        {
          "output_type": "stream",
          "name": "stdout",
          "text": [
            "CPU times: user 4 µs, sys: 0 ns, total: 4 µs\n",
            "Wall time: 7.87 µs\n",
            "The investigators name could be Tannenbaum with a phone number of: 826-636-2286\n",
            "CPU times: user 4 µs, sys: 0 ns, total: 4 µs\n",
            "Wall time: 7.15 µs\n"
          ]
        }
      ]
    }
  ]
}